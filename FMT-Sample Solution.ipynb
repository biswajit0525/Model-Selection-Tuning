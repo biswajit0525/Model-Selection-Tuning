{
 "cells": [
  {
   "cell_type": "code",
   "execution_count": 1,
   "metadata": {
    "collapsed": false
   },
   "outputs": [],
   "source": [
    "from pyspark.ml.pipeline import Pipeline\n",
    "from pyspark.ml.feature import Bucketizer, StringIndexer,VectorAssembler, IndexToString\n",
    "from pyspark.ml.classification import DecisionTreeClassifier,DecisionTreeClassificationModel\n",
    "from pyspark.ml.evaluation import MulticlassClassificationEvaluator\n",
    "from pyspark.ml.param import TypeConverters\n",
    "from pyspark.sql.types import StructType, StructField\n",
    "from pyspark.sql.types import DoubleType, IntegerType, StringType\n",
    "from pyspark.ml.feature import HashingTF, Tokenizer, IDF, StopWordsRemover, Binarizer,RegexTokenizer\n",
    "from pyspark.ml.feature import SQLTransformer\n",
    "import re\n",
    "from pyspark.ml.param import TypeConverters\n",
    "from pyspark.ml.classification import NaiveBayes, NaiveBayesModel, RandomForestClassifier,RandomForestClassificationModel\n",
    "from pyspark.ml.evaluation import MulticlassClassificationEvaluator\n",
    "from pyspark.ml.classification import LogisticRegression\n",
    "from pyspark.ml.tuning import CrossValidator, ParamGridBuilder, TrainValidationSplit"
   ]
  },
  {
   "cell_type": "code",
   "execution_count": 2,
   "metadata": {
    "collapsed": false
   },
   "outputs": [],
   "source": [
    "reviews= spark.read.csv(\"C:/Users/bojha/Documents/GL/Reviews.csv\", header = True, inferSchema = True)"
   ]
  },
  {
   "cell_type": "markdown",
   "metadata": {},
   "source": [
    "This dataset consists of a single CSV file, Reviews.csv, and a corresponding SQLite table named Reviews in database.sqlite. The columns in the table are:\n",
    "•\tId\n",
    "•\tProductId - unique identifier for the product\n",
    "•\tUserId - unqiue identifier for the user\n",
    "•\tProfileName\n",
    "•\tHelpfulnessNumerator - number of users who found the review helpful\n",
    "•\tHelpfulnessDenominator - number of users who indicated whether they found the review helpful\n",
    "•\tScore - rating between 1 and 5. (/nitin  Ratings are \n",
    "•\tTime - timestamp for the review\n",
    "•\tSummary - brief summary of the review\n",
    "•\tText - text of the review"
   ]
  },
  {
   "cell_type": "code",
   "execution_count": 3,
   "metadata": {
    "collapsed": false
   },
   "outputs": [
    {
     "name": "stdout",
     "output_type": "stream",
     "text": [
      "root\n",
      " |-- Id: integer (nullable = true)\n",
      " |-- ProductId: string (nullable = true)\n",
      " |-- UserId: string (nullable = true)\n",
      " |-- ProfileName: string (nullable = true)\n",
      " |-- HelpfulnessNumerator: string (nullable = true)\n",
      " |-- HelpfulnessDenominator: string (nullable = true)\n",
      " |-- Score: string (nullable = true)\n",
      " |-- Time: string (nullable = true)\n",
      " |-- Summary: string (nullable = true)\n",
      " |-- Text: string (nullable = true)\n",
      "\n"
     ]
    }
   ],
   "source": [
    "reviews.printSchema()"
   ]
  },
  {
   "cell_type": "code",
   "execution_count": 4,
   "metadata": {
    "collapsed": false
   },
   "outputs": [
    {
     "data": {
      "text/plain": [
       "568361"
      ]
     },
     "execution_count": 4,
     "metadata": {},
     "output_type": "execute_result"
    }
   ],
   "source": [
    "reviews.count()"
   ]
  },
  {
   "cell_type": "code",
   "execution_count": 5,
   "metadata": {
    "collapsed": false
   },
   "outputs": [],
   "source": [
    "rd = reviews.withColumn(\"Score\", reviews[\"Score\"].cast(\"double\")).withColumn(\"HelpfulnessNumerator\", reviews[\"HelpfulnessNumerator\"].cast(\"double\"))"
   ]
  },
  {
   "cell_type": "code",
   "execution_count": 6,
   "metadata": {
    "collapsed": false
   },
   "outputs": [],
   "source": [
    "rd= rd.withColumn(\"HelpfulnessDenominator\", rd[\"HelpfulnessDenominator\"].cast(\"double\")).dropna()"
   ]
  },
  {
   "cell_type": "code",
   "execution_count": 7,
   "metadata": {
    "collapsed": false
   },
   "outputs": [
    {
     "name": "stdout",
     "output_type": "stream",
     "text": [
      "root\n",
      " |-- Id: integer (nullable = true)\n",
      " |-- ProductId: string (nullable = true)\n",
      " |-- UserId: string (nullable = true)\n",
      " |-- ProfileName: string (nullable = true)\n",
      " |-- HelpfulnessNumerator: double (nullable = true)\n",
      " |-- HelpfulnessDenominator: double (nullable = true)\n",
      " |-- Score: double (nullable = true)\n",
      " |-- Time: string (nullable = true)\n",
      " |-- Summary: string (nullable = true)\n",
      " |-- Text: string (nullable = true)\n",
      "\n"
     ]
    }
   ],
   "source": [
    "rd.printSchema()"
   ]
  },
  {
   "cell_type": "code",
   "execution_count": 8,
   "metadata": {
    "collapsed": false
   },
   "outputs": [
    {
     "data": {
      "text/plain": [
       "568361"
      ]
     },
     "execution_count": 8,
     "metadata": {},
     "output_type": "execute_result"
    }
   ],
   "source": [
    "reviews.count()"
   ]
  },
  {
   "cell_type": "code",
   "execution_count": 9,
   "metadata": {
    "collapsed": false
   },
   "outputs": [
    {
     "data": {
      "text/plain": [
       "565620"
      ]
     },
     "execution_count": 9,
     "metadata": {},
     "output_type": "execute_result"
    }
   ],
   "source": [
    "rd.count()"
   ]
  },
  {
   "cell_type": "markdown",
   "metadata": {},
   "source": [
    "Thus, we had about 3000 observations with na values which we have removed now. "
   ]
  },
  {
   "cell_type": "code",
   "execution_count": 10,
   "metadata": {
    "collapsed": false
   },
   "outputs": [
    {
     "data": {
      "text/plain": [
       "[Row(Id=1, ProductId=u'B001E4KFG0', UserId=u'A3SGXH7AUHU8GW', ProfileName=u'delmartian', HelpfulnessNumerator=1.0, HelpfulnessDenominator=1.0, Score=5.0, Time=u'1303862400', Summary=u'Good Quality Dog Food', Text=u'I have bought several of the Vitality canned dog food products and have found them all to be of good quality. The product looks more like a stew than a processed meat and it smells better. My Labrador is finicky and she appreciates this product better than  most.')]"
      ]
     },
     "execution_count": 10,
     "metadata": {},
     "output_type": "execute_result"
    }
   ],
   "source": [
    "rd.take(1)"
   ]
  },
  {
   "cell_type": "markdown",
   "metadata": {},
   "source": [
    "Thus, we see that the first observation is about product ID B001E$KFG0 (hiding the actual product from us, which is case often)  from the user A3SGXH7AUHU8GW with profile name delmartian. He is talking about good quality Dog Food at time 1303862400 and has given it a score of 5. The summary as given by him is 'Good Quality Dog Food'. The actual text of his review is in the Text column and on reading, it sounds positive. The words which indicate positive senses are: smell better, good quality, appreciates this product better than most etc. Our task is to create a sentiment score of these reviews and see how wel they correlate with the Score which the reviewer has himself given. Please note that they need not always match. "
   ]
  },
  {
   "cell_type": "code",
   "execution_count": 11,
   "metadata": {
    "collapsed": false
   },
   "outputs": [
    {
     "data": {
      "text/html": [
       "<div>\n",
       "<table border=\"1\" class=\"dataframe\">\n",
       "  <thead>\n",
       "    <tr style=\"text-align: right;\">\n",
       "      <th></th>\n",
       "      <th>Id</th>\n",
       "      <th>HelpfulnessNumerator</th>\n",
       "      <th>HelpfulnessDenominator</th>\n",
       "      <th>Score</th>\n",
       "    </tr>\n",
       "  </thead>\n",
       "  <tbody>\n",
       "    <tr>\n",
       "      <th>count</th>\n",
       "      <td>565620.000000</td>\n",
       "      <td>565620.000000</td>\n",
       "      <td>565620.000000</td>\n",
       "      <td>565620.000000</td>\n",
       "    </tr>\n",
       "    <tr>\n",
       "      <th>mean</th>\n",
       "      <td>284277.684311</td>\n",
       "      <td>1.740548</td>\n",
       "      <td>2.225347</td>\n",
       "      <td>4.183227</td>\n",
       "    </tr>\n",
       "    <tr>\n",
       "      <th>std</th>\n",
       "      <td>164102.573640</td>\n",
       "      <td>7.642087</td>\n",
       "      <td>8.294381</td>\n",
       "      <td>1.311098</td>\n",
       "    </tr>\n",
       "    <tr>\n",
       "      <th>min</th>\n",
       "      <td>1.000000</td>\n",
       "      <td>0.000000</td>\n",
       "      <td>0.000000</td>\n",
       "      <td>1.000000</td>\n",
       "    </tr>\n",
       "    <tr>\n",
       "      <th>25%</th>\n",
       "      <td>142199.750000</td>\n",
       "      <td>0.000000</td>\n",
       "      <td>0.000000</td>\n",
       "      <td>4.000000</td>\n",
       "    </tr>\n",
       "    <tr>\n",
       "      <th>50%</th>\n",
       "      <td>284309.500000</td>\n",
       "      <td>0.000000</td>\n",
       "      <td>1.000000</td>\n",
       "      <td>5.000000</td>\n",
       "    </tr>\n",
       "    <tr>\n",
       "      <th>75%</th>\n",
       "      <td>426392.250000</td>\n",
       "      <td>2.000000</td>\n",
       "      <td>2.000000</td>\n",
       "      <td>5.000000</td>\n",
       "    </tr>\n",
       "    <tr>\n",
       "      <th>max</th>\n",
       "      <td>568454.000000</td>\n",
       "      <td>866.000000</td>\n",
       "      <td>923.000000</td>\n",
       "      <td>5.000000</td>\n",
       "    </tr>\n",
       "  </tbody>\n",
       "</table>\n",
       "</div>"
      ],
      "text/plain": [
       "                  Id  HelpfulnessNumerator  HelpfulnessDenominator  \\\n",
       "count  565620.000000         565620.000000           565620.000000   \n",
       "mean   284277.684311              1.740548                2.225347   \n",
       "std    164102.573640              7.642087                8.294381   \n",
       "min         1.000000              0.000000                0.000000   \n",
       "25%    142199.750000              0.000000                0.000000   \n",
       "50%    284309.500000              0.000000                1.000000   \n",
       "75%    426392.250000              2.000000                2.000000   \n",
       "max    568454.000000            866.000000              923.000000   \n",
       "\n",
       "               Score  \n",
       "count  565620.000000  \n",
       "mean        4.183227  \n",
       "std         1.311098  \n",
       "min         1.000000  \n",
       "25%         4.000000  \n",
       "50%         5.000000  \n",
       "75%         5.000000  \n",
       "max         5.000000  "
      ]
     },
     "execution_count": 11,
     "metadata": {},
     "output_type": "execute_result"
    }
   ],
   "source": [
    "rd.toPandas().describe()"
   ]
  },
  {
   "cell_type": "markdown",
   "metadata": {},
   "source": [
    "Here, we see that HelpfulnessNumerator ranges from 0 to 866 with 50% percentile having value less than 0 and mean value of 1.74. HelpfulnesssDenominator ranges from 0 to 923 with 25% having value of 0 and mean of 2.22.  For Score, we have values ranging from 1 to 5 with 75% scoring more than 4 and more than 50% scoring 5. Thus, we have a positive bias in the reviews. This will mean that we will have difficulty in predicting negative reviews and our model will be more inclined to predict a review a positive. There are several ways to address this. One of the popular ways is to sample the data so that the training data has equal representation of the negative and positive biases."
   ]
  },
  {
   "cell_type": "code",
   "execution_count": 12,
   "metadata": {
    "collapsed": false
   },
   "outputs": [
    {
     "name": "stdout",
     "output_type": "stream",
     "text": [
      "+-----+------+\n",
      "|Score| count|\n",
      "+-----+------+\n",
      "|  1.0| 52114|\n",
      "|  2.0| 29594|\n",
      "|  3.0| 42353|\n",
      "|  4.0| 80039|\n",
      "|  5.0|361520|\n",
      "+-----+------+\n",
      "\n"
     ]
    }
   ],
   "source": [
    "rd.groupBy(\"Score\").count().sort(\"Score\").show(100)"
   ]
  },
  {
   "cell_type": "code",
   "execution_count": 14,
   "metadata": {
    "collapsed": false
   },
   "outputs": [
    {
     "data": {
      "text/plain": [
       "0.6428571428571429"
      ]
     },
     "execution_count": 14,
     "metadata": {},
     "output_type": "execute_result"
    }
   ],
   "source": [
    "36.0/56.0"
   ]
  },
  {
   "cell_type": "code",
   "execution_count": 15,
   "metadata": {
    "collapsed": false
   },
   "outputs": [
    {
     "data": {
      "text/plain": [
       "0.7857142857142857"
      ]
     },
     "execution_count": 15,
     "metadata": {},
     "output_type": "execute_result"
    }
   ],
   "source": [
    "44.0/56.0"
   ]
  },
  {
   "cell_type": "markdown",
   "metadata": {},
   "source": [
    "Now, we have exact numbers of reviews at various scores levels:  we see that about 65% of the reviews have scored themselves at 5 and about 80% are above or equal to 4. This is indeed a very positive corpus. "
   ]
  },
  {
   "cell_type": "markdown",
   "metadata": {},
   "source": [
    "In  the below, we calculate the helpfulness score as suggested by the creator of the dataset and correlate that with the \"Score\"."
   ]
  },
  {
   "cell_type": "code",
   "execution_count": 16,
   "metadata": {
    "collapsed": false
   },
   "outputs": [],
   "source": [
    "rd1= rd.withColumn(\"helpfulness\", rd.HelpfulnessDenominator/rd.HelpfulnessNumerator)"
   ]
  },
  {
   "cell_type": "code",
   "execution_count": 17,
   "metadata": {
    "collapsed": false
   },
   "outputs": [
    {
     "name": "stdout",
     "output_type": "stream",
     "text": [
      "+---+----------+--------------+-----------+--------------------+----------------------+-----+----------+--------------------+--------------------+-----------+\n",
      "| Id| ProductId|        UserId|ProfileName|HelpfulnessNumerator|HelpfulnessDenominator|Score|      Time|             Summary|                Text|helpfulness|\n",
      "+---+----------+--------------+-----------+--------------------+----------------------+-----+----------+--------------------+--------------------+-----------+\n",
      "|  1|B001E4KFG0|A3SGXH7AUHU8GW| delmartian|                 1.0|                   1.0|  5.0|1303862400|Good Quality Dog ...|I have bought sev...|        1.0|\n",
      "+---+----------+--------------+-----------+--------------------+----------------------+-----+----------+--------------------+--------------------+-----------+\n",
      "only showing top 1 row\n",
      "\n"
     ]
    }
   ],
   "source": [
    "rd1.show(1)"
   ]
  },
  {
   "cell_type": "code",
   "execution_count": 18,
   "metadata": {
    "collapsed": false
   },
   "outputs": [
    {
     "data": {
      "text/html": [
       "<div>\n",
       "<table border=\"1\" class=\"dataframe\">\n",
       "  <thead>\n",
       "    <tr style=\"text-align: right;\">\n",
       "      <th></th>\n",
       "      <th>helpfulness</th>\n",
       "    </tr>\n",
       "  </thead>\n",
       "  <tbody>\n",
       "    <tr>\n",
       "      <th>count</th>\n",
       "      <td>263205.000000</td>\n",
       "    </tr>\n",
       "    <tr>\n",
       "      <th>mean</th>\n",
       "      <td>1.347532</td>\n",
       "    </tr>\n",
       "    <tr>\n",
       "      <th>std</th>\n",
       "      <td>1.196530</td>\n",
       "    </tr>\n",
       "    <tr>\n",
       "      <th>min</th>\n",
       "      <td>0.333333</td>\n",
       "    </tr>\n",
       "    <tr>\n",
       "      <th>25%</th>\n",
       "      <td>1.000000</td>\n",
       "    </tr>\n",
       "    <tr>\n",
       "      <th>50%</th>\n",
       "      <td>1.000000</td>\n",
       "    </tr>\n",
       "    <tr>\n",
       "      <th>75%</th>\n",
       "      <td>1.250000</td>\n",
       "    </tr>\n",
       "    <tr>\n",
       "      <th>max</th>\n",
       "      <td>91.000000</td>\n",
       "    </tr>\n",
       "  </tbody>\n",
       "</table>\n",
       "</div>"
      ],
      "text/plain": [
       "         helpfulness\n",
       "count  263205.000000\n",
       "mean        1.347532\n",
       "std         1.196530\n",
       "min         0.333333\n",
       "25%         1.000000\n",
       "50%         1.000000\n",
       "75%         1.250000\n",
       "max        91.000000"
      ]
     },
     "execution_count": 18,
     "metadata": {},
     "output_type": "execute_result"
    }
   ],
   "source": [
    "rd1.select(\"helpfulness\").toPandas().describe()"
   ]
  },
  {
   "cell_type": "code",
   "execution_count": 20,
   "metadata": {
    "collapsed": false
   },
   "outputs": [
    {
     "data": {
      "text/plain": [
       "-0.2173824300531092"
      ]
     },
     "execution_count": 20,
     "metadata": {},
     "output_type": "execute_result"
    }
   ],
   "source": [
    "rd1.corr(\"helpfulness\",\"Score\")"
   ]
  },
  {
   "cell_type": "markdown",
   "metadata": {},
   "source": [
    "Thus, we see that the helpfulness score is negatively correlated to the Score as it is not running as high as the \"score\". "
   ]
  },
  {
   "cell_type": "code",
   "execution_count": 19,
   "metadata": {
    "collapsed": false
   },
   "outputs": [
    {
     "data": {
      "text/plain": [
       "-0.3013559814229622"
      ]
     },
     "execution_count": 19,
     "metadata": {},
     "output_type": "execute_result"
    }
   ],
   "source": [
    "rd1.cov(\"helpfulness\",\"Score\")"
   ]
  },
  {
   "cell_type": "markdown",
   "metadata": {},
   "source": [
    "Let's use matplotlib to plot the relationship between helpfulness and score to further understand what is happening?"
   ]
  },
  {
   "cell_type": "code",
   "execution_count": 21,
   "metadata": {
    "collapsed": true
   },
   "outputs": [],
   "source": [
    "from matplotlib import *\n",
    "import matplotlib.pyplot as plt\n",
    "%matplotlib inline"
   ]
  },
  {
   "cell_type": "code",
   "execution_count": 22,
   "metadata": {
    "collapsed": true
   },
   "outputs": [],
   "source": [
    "rd1PD=rd1.toPandas()"
   ]
  },
  {
   "cell_type": "code",
   "execution_count": 24,
   "metadata": {
    "collapsed": false
   },
   "outputs": [
    {
     "data": {
      "image/png": "[encoded data removed]",
      "text/plain": [
       "<matplotlib.figure.Figure at 0x51eeb5c0>"
      ]
     },
     "metadata": {},
     "output_type": "display_data"
    }
   ],
   "source": [
    "plt.plot(rd1PD['helpfulness'], rd1PD['Score'],'ro')\n",
    "plt.xlabel('helpfulness')\n",
    "plt.ylabel('Score')\n",
    "plt.show()"
   ]
  },
  {
   "cell_type": "markdown",
   "metadata": {},
   "source": [
    "We see that at all levels of score values, helpfulness is nearly same with infact slightly lower values for higher values of 4 and 5, thus indicating lower correlations between two variables."
   ]
  },
  {
   "cell_type": "code",
   "execution_count": 29,
   "metadata": {
    "collapsed": false
   },
   "outputs": [
    {
     "data": {
      "text/plain": [
       "0         I have bought several of the Vitality canned d...\n",
       "1         \"Product arrived labeled as Jumbo Salted Peanu...\n",
       "2         \"This is a confection that has been around a f...\n",
       "3         If you are looking for the secret ingredient i...\n",
       "4         Great taffy at a great price.  There was a wid...\n",
       "5         I got a wild hair for taffy and ordered this f...\n",
       "6         This saltwater taffy had great flavors and was...\n",
       "7         This taffy is so good.  It is very soft and ch...\n",
       "8         Right now I'm mostly just sprouting this so my...\n",
       "9         This is a very healthy dog food. Good for thei...\n",
       "10        I don't know if it's the cactus or the tequila...\n",
       "11        One of my boys needed to lose some weight and ...\n",
       "12        My cats have been happily eating Felidae Plati...\n",
       "13        good flavor! these came securely packed... the...\n",
       "14        The Strawberry Twizzlers are my guilty pleasur...\n",
       "15        My daughter loves twizzlers and this shipment ...\n",
       "16        I love eating them and they are good for watch...\n",
       "17        I am very satisfied with my Twizzler purchase....\n",
       "18        Twizzlers, Strawberry my childhood favorite ca...\n",
       "19        Candy was delivered very fast and was purchase...\n",
       "20        My husband is a Twizzlers addict.  We've bough...\n",
       "21        \"I bought these for my husband who is currentl...\n",
       "22        I can remember buying this candy as a kid and ...\n",
       "23        I love this candy.  After weight watchers I ha...\n",
       "24        I have lived out of the US for over 7 yrs now,...\n",
       "25        \"Product received is as advertised.<br /><br /...\n",
       "26        The candy is just red , No flavor . Just  plan...\n",
       "27        I was so glad Amazon carried these batteries. ...\n",
       "28        I got this for my Mum who is not diabetic but ...\n",
       "29        I don't know if it's the cactus or the tequila...\n",
       "                                ...                        \n",
       "565590    \"I've tried several violet flavored candies in...\n",
       "565591    \"This candy has a very good flavor. It is quit...\n",
       "565592    The candy is tasty, but they totally scam you ...\n",
       "565593    I had been looking for the violet candy with t...\n",
       "565594    these are very pricey so i only enjoy them now...\n",
       "565595    These candies have a mild flavor, when compare...\n",
       "565596    This product is a bit pricey for the amt. rece...\n",
       "565597    Definitely not worth buying flavored water wit...\n",
       "565598    I thought this soup would be more like a chill...\n",
       "565599    \"I just bought this soup today at my local gro...\n",
       "565600    This soup is mostly broth. Although it has a k...\n",
       "565601    It is mostly broth, with the advertised 3/4 cu...\n",
       "565602    In the past, I would have to buy a large quant...\n",
       "565603    Ammonium bicarbonate in a nice little package....\n",
       "565604    If you haven't ever used Ammonium Bicarbonate ...\n",
       "565605    We need this for a recipe my wife is intereste...\n",
       "565606    Indie Candy's gummies are absolutely delicious...\n",
       "565607    Quick and easy! Had similar Gulasch in Guest H...\n",
       "565608    This product is great.  Gives you so much ener...\n",
       "565609    I love this tea.  I first discovered the pleas...\n",
       "565610    As a foodie, I use a lot of Chinese 5 Spice po...\n",
       "565611    You can make this mix yourself, but the Star A...\n",
       "565612    I had ordered some of these a few months back ...\n",
       "565613    Hoping there is no MSG in this, this tastes ex...\n",
       "565614    My only complaint is that there's so much of i...\n",
       "565615    Great for sesame chicken..this is a good if no...\n",
       "565616    I'm disappointed with the flavor. The chocolat...\n",
       "565617    \"These stars are small, so you can give 10-15 ...\n",
       "565618    These are the BEST treats for training and rew...\n",
       "565619    I am very satisfied ,product is as advertised,...\n",
       "Name: Text, dtype: object"
      ]
     },
     "execution_count": 29,
     "metadata": {},
     "output_type": "execute_result"
    }
   ],
   "source": [
    "rd1PD['Text']"
   ]
  },
  {
   "cell_type": "markdown",
   "metadata": {},
   "source": [
    "In the above we see a stripped off version of revews. In order to see full review for a given row, let's do the following:"
   ]
  },
  {
   "cell_type": "code",
   "execution_count": 30,
   "metadata": {
    "collapsed": false
   },
   "outputs": [
    {
     "data": {
      "text/plain": [
       "u'I have bought several of the Vitality canned dog food products and have found them all to be of good quality. The product looks more like a stew than a processed meat and it smells better. My Labrador is finicky and she appreciates this product better than  most.'"
      ]
     },
     "execution_count": 30,
     "metadata": {},
     "output_type": "execute_result"
    }
   ],
   "source": [
    "rd1PD[\"Text\"][0]"
   ]
  },
  {
   "cell_type": "markdown",
   "metadata": {},
   "source": [
    "We see a very positive example of the review here. Let's see one more example."
   ]
  },
  {
   "cell_type": "code",
   "execution_count": 32,
   "metadata": {
    "collapsed": false
   },
   "outputs": [
    {
     "data": {
      "text/plain": [
       "u'\"Product arrived labeled as Jumbo Salted Peanuts...the peanuts were actually small sized unsalted. Not sure if this was an error or if the vendor intended to represent the product as \"\"Jumbo\"\".\"'"
      ]
     },
     "execution_count": 32,
     "metadata": {},
     "output_type": "execute_result"
    }
   ],
   "source": [
    "rd1PD[\"Text\"][1]"
   ]
  },
  {
   "cell_type": "markdown",
   "metadata": {},
   "source": [
    "On reading, this is clearly a negative review. But, since the negativity here is more like 'irony', it will be quite challenging to see if the algorithm is able to actually give out a negative score to this review."
   ]
  },
  {
   "cell_type": "markdown",
   "metadata": {},
   "source": [
    "In both examples above, we are able to find the review to be negative or positive because of the words we recognise. For example, in the first review, words like 'better', 'good' tell us that the review is positive. imilarly, in the second example, words like 'small' and 'error' are suggesting this to be negtive review.  Thus, these words are our features which we need to extract for each review and then use the information contained in them to assess the sentiment of each review. This is what we intend to do below."
   ]
  },
  {
   "cell_type": "code",
   "execution_count": null,
   "metadata": {
    "collapsed": false
   },
   "outputs": [],
   "source": []
  },
  {
   "cell_type": "code",
   "execution_count": 33,
   "metadata": {
    "collapsed": false
   },
   "outputs": [
    {
     "name": "stdout",
     "output_type": "stream",
     "text": [
      "+--------------------+\n",
      "|                Text|\n",
      "+--------------------+\n",
      "|I have bought sev...|\n",
      "|\"Product arrived ...|\n",
      "|\"This is a confec...|\n",
      "|If you are lookin...|\n",
      "|Great taffy at a ...|\n",
      "+--------------------+\n",
      "only showing top 5 rows\n",
      "\n"
     ]
    }
   ],
   "source": [
    "rd.select(\"Text\").show(5)"
   ]
  },
  {
   "cell_type": "code",
   "execution_count": 19,
   "metadata": {
    "collapsed": false
   },
   "outputs": [
    {
     "data": {
      "text/plain": [
       "255327"
      ]
     },
     "execution_count": 19,
     "metadata": {},
     "output_type": "execute_result"
    }
   ],
   "source": [
    "rd.select(\"UserId\").distinct().count()"
   ]
  },
  {
   "cell_type": "code",
   "execution_count": 34,
   "metadata": {
    "collapsed": false
   },
   "outputs": [
    {
     "data": {
      "text/plain": [
       "565620"
      ]
     },
     "execution_count": 34,
     "metadata": {},
     "output_type": "execute_result"
    }
   ],
   "source": [
    "rd.count()"
   ]
  },
  {
   "cell_type": "code",
   "execution_count": 36,
   "metadata": {
    "collapsed": false
   },
   "outputs": [
    {
     "data": {
      "text/plain": [
       "2.215276880235933"
      ]
     },
     "execution_count": 36,
     "metadata": {},
     "output_type": "execute_result"
    }
   ],
   "source": [
    "565620.0/255327.0"
   ]
  },
  {
   "cell_type": "code",
   "execution_count": 20,
   "metadata": {
    "collapsed": false
   },
   "outputs": [
    {
     "data": {
      "text/plain": [
       "74124"
      ]
     },
     "execution_count": 20,
     "metadata": {},
     "output_type": "execute_result"
    }
   ],
   "source": [
    "rd.select(\"ProductId\").distinct().count()"
   ]
  },
  {
   "cell_type": "code",
   "execution_count": 37,
   "metadata": {
    "collapsed": false
   },
   "outputs": [
    {
     "data": {
      "text/plain": [
       "7.6307268900760885"
      ]
     },
     "execution_count": 37,
     "metadata": {},
     "output_type": "execute_result"
    }
   ],
   "source": [
    "565620.0/74124.0"
   ]
  },
  {
   "cell_type": "markdown",
   "metadata": {},
   "source": [
    "Thus, we have 255327 distinct users who have written reviews about 74124 products. There are about 7.6 reviews per product and each user has written about 2.2 reviews."
   ]
  },
  {
   "cell_type": "code",
   "execution_count": 38,
   "metadata": {
    "collapsed": false
   },
   "outputs": [
    {
     "data": {
      "text/plain": [
       "pyspark.sql.dataframe.DataFrame"
      ]
     },
     "execution_count": 38,
     "metadata": {},
     "output_type": "execute_result"
    }
   ],
   "source": [
    "type(rd1)"
   ]
  },
  {
   "cell_type": "code",
   "execution_count": 39,
   "metadata": {
    "collapsed": false
   },
   "outputs": [
    {
     "name": "stdout",
     "output_type": "stream",
     "text": [
      "root\n",
      " |-- Id: integer (nullable = true)\n",
      " |-- ProductId: string (nullable = true)\n",
      " |-- UserId: string (nullable = true)\n",
      " |-- ProfileName: string (nullable = true)\n",
      " |-- HelpfulnessNumerator: double (nullable = true)\n",
      " |-- HelpfulnessDenominator: double (nullable = true)\n",
      " |-- Score: double (nullable = true)\n",
      " |-- Time: string (nullable = true)\n",
      " |-- Summary: string (nullable = true)\n",
      " |-- Text: string (nullable = true)\n",
      " |-- helpfulness: double (nullable = true)\n",
      "\n"
     ]
    }
   ],
   "source": [
    "rd1.printSchema()"
   ]
  },
  {
   "cell_type": "markdown",
   "metadata": {},
   "source": [
    "Create a feature transformer for stopwords removing using default stopwords list for english"
   ]
  },
  {
   "cell_type": "code",
   "execution_count": 40,
   "metadata": {
    "collapsed": false
   },
   "outputs": [
    {
     "name": "stdout",
     "output_type": "stream",
     "text": [
      "+---+----------+--------------+--------------------+--------------------+----------------------+-----+----------+--------------------+--------------------+-----------+\n",
      "| Id| ProductId|        UserId|         ProfileName|HelpfulnessNumerator|HelpfulnessDenominator|Score|      Time|             Summary|                Text|helpfulness|\n",
      "+---+----------+--------------+--------------------+--------------------+----------------------+-----+----------+--------------------+--------------------+-----------+\n",
      "|  1|B001E4KFG0|A3SGXH7AUHU8GW|          delmartian|                 1.0|                   1.0|  5.0|1303862400|Good Quality Dog ...|I have bought sev...|        1.0|\n",
      "|  2|B00813GRG4|A1D87F6ZCVE5NK|              dll pa|                 0.0|                   0.0|  1.0|1346976000|   Not as Advertised|\"Product arrived ...|       null|\n",
      "|  3|B000LQOCH0| ABXLMWJIXXAIN|\"Natalia Corres \"...|                 1.0|                   1.0|  4.0|1219017600|\"\"\"Delight\"\" says...|\"This is a confec...|        1.0|\n",
      "+---+----------+--------------+--------------------+--------------------+----------------------+-----+----------+--------------------+--------------------+-----------+\n",
      "only showing top 3 rows\n",
      "\n"
     ]
    }
   ],
   "source": [
    "rd1.show(3)"
   ]
  },
  {
   "cell_type": "markdown",
   "metadata": {},
   "source": [
    "Now, we tokenize the text of the review into individual words, which will become our features to help us score them on the positivity of the review. In the below, we are taking the \"Text\" column and breaking this into vector of \"words\".  We are using the RegexTokenizer function of the MLlib which extract tokens by using the regular expression pattern (or default which is space). I first create the call."
   ]
  },
  {
   "cell_type": "code",
   "execution_count": 41,
   "metadata": {
    "collapsed": true
   },
   "outputs": [],
   "source": [
    "reTokenizer = RegexTokenizer(inputCol=\"Text\", outputCol=\"words\")"
   ]
  },
  {
   "cell_type": "markdown",
   "metadata": {},
   "source": [
    "Now, I apply it on the rd1 dataset."
   ]
  },
  {
   "cell_type": "code",
   "execution_count": 42,
   "metadata": {
    "collapsed": false
   },
   "outputs": [],
   "source": [
    "rd11= reTokenizer.transform(rd1)"
   ]
  },
  {
   "cell_type": "code",
   "execution_count": 74,
   "metadata": {
    "collapsed": false
   },
   "outputs": [
    {
     "name": "stdout",
     "output_type": "stream",
     "text": [
      "+--------------------+--------------------+\n",
      "|                Text|               words|\n",
      "+--------------------+--------------------+\n",
      "|I have bought sev...|[i, have, bought,...|\n",
      "|\"Product arrived ...|[\"product, arrive...|\n",
      "|\"This is a confec...|[\"this, is, a, co...|\n",
      "|If you are lookin...|[if, you, are, lo...|\n",
      "|Great taffy at a ...|[great, taffy, at...|\n",
      "|I got a wild hair...|[i, got, a, wild,...|\n",
      "|This saltwater ta...|[this, saltwater,...|\n",
      "|This taffy is so ...|[this, taffy, is,...|\n",
      "|Right now I'm mos...|[right, now, i'm,...|\n",
      "|This is a very he...|[this, is, a, ver...|\n",
      "|I don't know if i...|[i, don't, know, ...|\n",
      "|One of my boys ne...|[one, of, my, boy...|\n",
      "|My cats have been...|[my, cats, have, ...|\n",
      "|good flavor! thes...|[good, flavor!, t...|\n",
      "|The Strawberry Tw...|[the, strawberry,...|\n",
      "|My daughter loves...|[my, daughter, lo...|\n",
      "|I love eating the...|[i, love, eating,...|\n",
      "|I am very satisfi...|[i, am, very, sat...|\n",
      "|Twizzlers, Strawb...|[twizzlers,, stra...|\n",
      "|Candy was deliver...|[candy, was, deli...|\n",
      "+--------------------+--------------------+\n",
      "only showing top 20 rows\n",
      "\n"
     ]
    }
   ],
   "source": [
    "rd11.select(\"Text\",\"words\").show()"
   ]
  },
  {
   "cell_type": "markdown",
   "metadata": {},
   "source": [
    "Here we see that the sentences are broken into individual words. For example the sentence \"I have bought several...\" has been split into a vector [\"i\", \"have\", \"bought\"...] etc."
   ]
  },
  {
   "cell_type": "markdown",
   "metadata": {},
   "source": [
    "Next step is to remove th trivial words like 'is''are' etc from the tokens as they do not help us learn about the sentiments of the review. pyspark again provides a builtin utility to handle that called StopWordsRemover. Here, I am using the default list of stopwords but you can also supply your own stop words list."
   ]
  },
  {
   "cell_type": "code",
   "execution_count": 43,
   "metadata": {
    "collapsed": false
   },
   "outputs": [],
   "source": [
    "stopword= StopWordsRemover(inputCol=\"words\", outputCol=\"cText\")"
   ]
  },
  {
   "cell_type": "code",
   "execution_count": 44,
   "metadata": {
    "collapsed": true
   },
   "outputs": [],
   "source": [
    "rd12=stopword.transform(rd11)"
   ]
  },
  {
   "cell_type": "code",
   "execution_count": 75,
   "metadata": {
    "collapsed": false
   },
   "outputs": [
    {
     "name": "stdout",
     "output_type": "stream",
     "text": [
      "+--------------------+--------------------+\n",
      "|               words|               cText|\n",
      "+--------------------+--------------------+\n",
      "|[i, have, bought,...|[bought, several,...|\n",
      "|[\"product, arrive...|[\"product, arrive...|\n",
      "|[\"this, is, a, co...|[\"this, confectio...|\n",
      "|[if, you, are, lo...|[looking, secret,...|\n",
      "|[great, taffy, at...|[great, taffy, gr...|\n",
      "+--------------------+--------------------+\n",
      "only showing top 5 rows\n",
      "\n"
     ]
    }
   ],
   "source": [
    "rd12.select(\"words\",\"cText\").show(5)"
   ]
  },
  {
   "cell_type": "markdown",
   "metadata": {},
   "source": [
    "Thus,we see that words like 'i', 'is', 'are' etc. have been removed."
   ]
  },
  {
   "cell_type": "code",
   "execution_count": 46,
   "metadata": {
    "collapsed": false
   },
   "outputs": [
    {
     "name": "stdout",
     "output_type": "stream",
     "text": [
      "root\n",
      " |-- Id: integer (nullable = true)\n",
      " |-- ProductId: string (nullable = true)\n",
      " |-- UserId: string (nullable = true)\n",
      " |-- ProfileName: string (nullable = true)\n",
      " |-- HelpfulnessNumerator: double (nullable = true)\n",
      " |-- HelpfulnessDenominator: double (nullable = true)\n",
      " |-- Score: double (nullable = true)\n",
      " |-- Time: string (nullable = true)\n",
      " |-- Summary: string (nullable = true)\n",
      " |-- Text: string (nullable = true)\n",
      " |-- helpfulness: double (nullable = true)\n",
      " |-- words: array (nullable = true)\n",
      " |    |-- element: string (containsNull = true)\n",
      " |-- cText: array (nullable = true)\n",
      " |    |-- element: string (containsNull = true)\n",
      "\n"
     ]
    }
   ],
   "source": [
    "rd12.printSchema()"
   ]
  },
  {
   "cell_type": "code",
   "execution_count": 47,
   "metadata": {
    "collapsed": false
   },
   "outputs": [],
   "source": [
    "rd13 = rd12.select ('Score',rd12.cText.cast(StringType())) "
   ]
  },
  {
   "cell_type": "code",
   "execution_count": 48,
   "metadata": {
    "collapsed": false
   },
   "outputs": [
    {
     "name": "stdout",
     "output_type": "stream",
     "text": [
      "root\n",
      " |-- Score: double (nullable = true)\n",
      " |-- cText: string (nullable = true)\n",
      "\n"
     ]
    }
   ],
   "source": [
    "rd13.printSchema()"
   ]
  },
  {
   "cell_type": "code",
   "execution_count": 49,
   "metadata": {
    "collapsed": false
   },
   "outputs": [
    {
     "name": "stdout",
     "output_type": "stream",
     "text": [
      "+-----+--------------------+\n",
      "|Score|               cText|\n",
      "+-----+--------------------+\n",
      "|  5.0|[bought,several,v...|\n",
      "|  1.0|[\"product,arrived...|\n",
      "|  4.0|[\"this,confection...|\n",
      "|  2.0|[looking,secret,i...|\n",
      "|  5.0|[great,taffy,grea...|\n",
      "|  4.0|[got,wild,hair,ta...|\n",
      "|  5.0|[saltwater,taffy,...|\n",
      "|  5.0|[taffy,good.,soft...|\n",
      "|  5.0|[right,i'm,mostly...|\n",
      "|  5.0|[healthy,dog,food...|\n",
      "|  5.0|[don't,know,it's,...|\n",
      "|  5.0|[one,boys,needed,...|\n",
      "|  1.0|[cats,happily,eat...|\n",
      "|  4.0|[good,flavor!,cam...|\n",
      "|  5.0|[strawberry,twizz...|\n",
      "|  5.0|[daughter,loves,t...|\n",
      "|  2.0|[love,eating,good...|\n",
      "|  5.0|[satisfied,twizzl...|\n",
      "|  5.0|[twizzlers,,straw...|\n",
      "|  5.0|[candy,delivered,...|\n",
      "+-----+--------------------+\n",
      "only showing top 20 rows\n",
      "\n"
     ]
    }
   ],
   "source": [
    "rd13.show()"
   ]
  },
  {
   "cell_type": "markdown",
   "metadata": {},
   "source": [
    "Create the tokenizer"
   ]
  },
  {
   "cell_type": "code",
   "execution_count": 50,
   "metadata": {
    "collapsed": false
   },
   "outputs": [],
   "source": [
    "tokenize= Tokenizer(inputCol=\"cText\", outputCol=\"tokens\")"
   ]
  },
  {
   "cell_type": "code",
   "execution_count": 51,
   "metadata": {
    "collapsed": false
   },
   "outputs": [],
   "source": [
    "rd2=tokenize.transform(rd13)"
   ]
  },
  {
   "cell_type": "code",
   "execution_count": 52,
   "metadata": {
    "collapsed": false
   },
   "outputs": [
    {
     "name": "stdout",
     "output_type": "stream",
     "text": [
      "+-----+--------------------+--------------------+\n",
      "|Score|               cText|              tokens|\n",
      "+-----+--------------------+--------------------+\n",
      "|  5.0|[bought,several,v...|[[bought,several,...|\n",
      "|  1.0|[\"product,arrived...|[[\"product,arrive...|\n",
      "|  4.0|[\"this,confection...|[[\"this,confectio...|\n",
      "|  2.0|[looking,secret,i...|[[looking,secret,...|\n",
      "|  5.0|[great,taffy,grea...|[[great,taffy,gre...|\n",
      "|  4.0|[got,wild,hair,ta...|[[got,wild,hair,t...|\n",
      "|  5.0|[saltwater,taffy,...|[[saltwater,taffy...|\n",
      "|  5.0|[taffy,good.,soft...|[[taffy,good.,sof...|\n",
      "|  5.0|[right,i'm,mostly...|[[right,i'm,mostl...|\n",
      "|  5.0|[healthy,dog,food...|[[healthy,dog,foo...|\n",
      "|  5.0|[don't,know,it's,...|[[don't,know,it's...|\n",
      "|  5.0|[one,boys,needed,...|[[one,boys,needed...|\n",
      "|  1.0|[cats,happily,eat...|[[cats,happily,ea...|\n",
      "|  4.0|[good,flavor!,cam...|[[good,flavor!,ca...|\n",
      "|  5.0|[strawberry,twizz...|[[strawberry,twiz...|\n",
      "|  5.0|[daughter,loves,t...|[[daughter,loves,...|\n",
      "|  2.0|[love,eating,good...|[[love,eating,goo...|\n",
      "|  5.0|[satisfied,twizzl...|[[satisfied,twizz...|\n",
      "|  5.0|[twizzlers,,straw...|[[twizzlers,,stra...|\n",
      "|  5.0|[candy,delivered,...|[[candy,delivered...|\n",
      "+-----+--------------------+--------------------+\n",
      "only showing top 20 rows\n",
      "\n"
     ]
    }
   ],
   "source": [
    "rd2.show()"
   ]
  },
  {
   "cell_type": "markdown",
   "metadata": {},
   "source": [
    "Now, we will compute how many times each token occures in a particular review by counting its frequency in the document. This we will do for top 400 words which occur in our reviews. This will remove a lot of words which occur only once or twice and may not play significant role in determining the sentiment. This is a very important number and one should play with different values of it to see how does the performanc evary. \n",
    "Create HashingTF"
   ]
  },
  {
   "cell_type": "code",
   "execution_count": 53,
   "metadata": {
    "collapsed": true
   },
   "outputs": [],
   "source": [
    "hashingTF = HashingTF(inputCol=\"tokens\", outputCol=\"rawFeatures\", numFeatures=400)"
   ]
  },
  {
   "cell_type": "code",
   "execution_count": 54,
   "metadata": {
    "collapsed": false
   },
   "outputs": [
    {
     "data": {
      "text/plain": [
       "'rawFeatures'"
      ]
     },
     "execution_count": 54,
     "metadata": {},
     "output_type": "execute_result"
    }
   ],
   "source": [
    "hashingTF.getOrDefault(\"outputCol\")"
   ]
  },
  {
   "cell_type": "code",
   "execution_count": 55,
   "metadata": {
    "collapsed": false
   },
   "outputs": [],
   "source": [
    "rd3=hashingTF.transform(rd2)"
   ]
  },
  {
   "cell_type": "code",
   "execution_count": 56,
   "metadata": {
    "collapsed": false
   },
   "outputs": [
    {
     "name": "stdout",
     "output_type": "stream",
     "text": [
      "+-----+--------------------+--------------------+-----------------+\n",
      "|Score|               cText|              tokens|      rawFeatures|\n",
      "+-----+--------------------+--------------------+-----------------+\n",
      "|  5.0|[bought,several,v...|[[bought,several,...|(400,[105],[1.0])|\n",
      "|  1.0|[\"product,arrived...|[[\"product,arrive...| (400,[77],[1.0])|\n",
      "|  4.0|[\"this,confection...|[[\"this,confectio...| (400,[17],[1.0])|\n",
      "|  2.0|[looking,secret,i...|[[looking,secret,...| (400,[52],[1.0])|\n",
      "|  5.0|[great,taffy,grea...|[[great,taffy,gre...|(400,[326],[1.0])|\n",
      "|  4.0|[got,wild,hair,ta...|[[got,wild,hair,t...|(400,[275],[1.0])|\n",
      "|  5.0|[saltwater,taffy,...|[[saltwater,taffy...|(400,[362],[1.0])|\n",
      "|  5.0|[taffy,good.,soft...|[[taffy,good.,sof...|(400,[350],[1.0])|\n",
      "|  5.0|[right,i'm,mostly...|[[right,i'm,mostl...|(400,[162],[1.0])|\n",
      "|  5.0|[healthy,dog,food...|[[healthy,dog,foo...|(400,[328],[1.0])|\n",
      "|  5.0|[don't,know,it's,...|[[don't,know,it's...|(400,[345],[1.0])|\n",
      "|  5.0|[one,boys,needed,...|[[one,boys,needed...| (400,[48],[1.0])|\n",
      "|  1.0|[cats,happily,eat...|[[cats,happily,ea...|(400,[318],[1.0])|\n",
      "|  4.0|[good,flavor!,cam...|[[good,flavor!,ca...|(400,[174],[1.0])|\n",
      "|  5.0|[strawberry,twizz...|[[strawberry,twiz...| (400,[73],[1.0])|\n",
      "|  5.0|[daughter,loves,t...|[[daughter,loves,...|(400,[110],[1.0])|\n",
      "|  2.0|[love,eating,good...|[[love,eating,goo...|(400,[185],[1.0])|\n",
      "|  5.0|[satisfied,twizzl...|[[satisfied,twizz...|(400,[315],[1.0])|\n",
      "|  5.0|[twizzlers,,straw...|[[twizzlers,,stra...|(400,[233],[1.0])|\n",
      "|  5.0|[candy,delivered,...|[[candy,delivered...| (400,[38],[1.0])|\n",
      "+-----+--------------------+--------------------+-----------------+\n",
      "only showing top 20 rows\n",
      "\n"
     ]
    }
   ],
   "source": [
    "rd3.show()"
   ]
  },
  {
   "cell_type": "markdown",
   "metadata": {},
   "source": [
    "In the above, we see that the word 'bought' is 106th term in th token vector and its frequncy in the first document is 1. In fact, most terms seem to have a frequency of 1."
   ]
  },
  {
   "cell_type": "markdown",
   "metadata": {},
   "source": [
    "Next, we calculate the 'Inverse Document Frequecy' or IDF. This is one of the most important concept in text mining and it helps us identify terms which are important from the unimpotant ones.Terms which are occuring in all documents will not help us identify when should the sentiment be positive or not. Thus, this term gives weightages to terms which occur in fewer documents."
   ]
  },
  {
   "cell_type": "code",
   "execution_count": 57,
   "metadata": {
    "collapsed": true
   },
   "outputs": [],
   "source": [
    "idf = IDF(inputCol=\"rawFeatures\", outputCol=\"features\")"
   ]
  },
  {
   "cell_type": "markdown",
   "metadata": {},
   "source": [
    "Apply IDF to the raw features and rescale the data"
   ]
  },
  {
   "cell_type": "code",
   "execution_count": 58,
   "metadata": {
    "collapsed": true
   },
   "outputs": [],
   "source": [
    "idfModel= idf.fit(rd3)"
   ]
  },
  {
   "cell_type": "code",
   "execution_count": 59,
   "metadata": {
    "collapsed": true
   },
   "outputs": [],
   "source": [
    "rescaledData = idfModel.transform(rd3)"
   ]
  },
  {
   "cell_type": "code",
   "execution_count": 60,
   "metadata": {
    "collapsed": false
   },
   "outputs": [
    {
     "name": "stdout",
     "output_type": "stream",
     "text": [
      "+-----+--------------------+--------------------+-----------------+--------------------+\n",
      "|Score|               cText|              tokens|      rawFeatures|            features|\n",
      "+-----+--------------------+--------------------+-----------------+--------------------+\n",
      "|  5.0|[bought,several,v...|[[bought,several,...|(400,[105],[1.0])|(400,[105],[5.962...|\n",
      "|  1.0|[\"product,arrived...|[[\"product,arrive...| (400,[77],[1.0])|(400,[77],[5.9074...|\n",
      "+-----+--------------------+--------------------+-----------------+--------------------+\n",
      "only showing top 2 rows\n",
      "\n"
     ]
    }
   ],
   "source": [
    "rescaledData.show(2)"
   ]
  },
  {
   "cell_type": "markdown",
   "metadata": {},
   "source": [
    "Thus feature venctor carrying the values of IDF of terms is our final feature vector which will be used to train the model which will help us score the reviews on their positivity."
   ]
  },
  {
   "cell_type": "code",
   "execution_count": 61,
   "metadata": {
    "collapsed": true
   },
   "outputs": [],
   "source": [
    "train, test = rescaledData.randomSplit([0.8, 0.2], seed=12345)"
   ]
  },
  {
   "cell_type": "code",
   "execution_count": 62,
   "metadata": {
    "collapsed": true
   },
   "outputs": [],
   "source": [
    "nb= NaiveBayes(smoothing=1.0,labelCol=\"Score\",  modelType=\"multinomial\")"
   ]
  },
  {
   "cell_type": "code",
   "execution_count": 63,
   "metadata": {
    "collapsed": false
   },
   "outputs": [
    {
     "name": "stdout",
     "output_type": "stream",
     "text": [
      "+-----+------+\n",
      "|Score| count|\n",
      "+-----+------+\n",
      "|  1.0| 41736|\n",
      "|  4.0| 63952|\n",
      "|  3.0| 33825|\n",
      "|  2.0| 23610|\n",
      "|  5.0|289215|\n",
      "+-----+------+\n",
      "\n"
     ]
    }
   ],
   "source": [
    "cc=train.groupBy(\"Score\").count().show()"
   ]
  },
  {
   "cell_type": "code",
   "execution_count": 64,
   "metadata": {
    "collapsed": false
   },
   "outputs": [
    {
     "data": {
      "text/plain": [
       "41736"
      ]
     },
     "execution_count": 64,
     "metadata": {},
     "output_type": "execute_result"
    }
   ],
   "source": [
    "train.filter(train.Score == 1).count()"
   ]
  },
  {
   "cell_type": "code",
   "execution_count": 65,
   "metadata": {
    "collapsed": false
   },
   "outputs": [
    {
     "data": {
      "text/plain": [
       "452338"
      ]
     },
     "execution_count": 65,
     "metadata": {},
     "output_type": "execute_result"
    }
   ],
   "source": [
    "train.count()"
   ]
  },
  {
   "cell_type": "code",
   "execution_count": 66,
   "metadata": {
    "collapsed": false
   },
   "outputs": [],
   "source": [
    "nb_model=nb.fit(train)"
   ]
  },
  {
   "cell_type": "code",
   "execution_count": 67,
   "metadata": {
    "collapsed": false
   },
   "outputs": [
    {
     "data": {
      "text/plain": [
       "pyspark.ml.classification.NaiveBayesModel"
      ]
     },
     "execution_count": 67,
     "metadata": {},
     "output_type": "execute_result"
    }
   ],
   "source": [
    "type(nb_model)"
   ]
  },
  {
   "cell_type": "code",
   "execution_count": 69,
   "metadata": {
    "collapsed": false
   },
   "outputs": [
    {
     "data": {
      "text/plain": [
       "u'NaiveBayes_4539ac43c3432442aab2'"
      ]
     },
     "execution_count": 69,
     "metadata": {},
     "output_type": "execute_result"
    }
   ],
   "source": [
    "nb_model.uid"
   ]
  },
  {
   "cell_type": "code",
   "execution_count": 70,
   "metadata": {
    "collapsed": false
   },
   "outputs": [],
   "source": [
    "result_nb=nb_model.transform(test)\\\n",
    "    .select(\"features\", \"Score\", \"prediction\")"
   ]
  },
  {
   "cell_type": "code",
   "execution_count": 71,
   "metadata": {
    "collapsed": true
   },
   "outputs": [],
   "source": [
    "ct=result_nb.crosstab(\"Score\",\"prediction\")"
   ]
  },
  {
   "cell_type": "code",
   "execution_count": 72,
   "metadata": {
    "collapsed": false
   },
   "outputs": [
    {
     "name": "stdout",
     "output_type": "stream",
     "text": [
      "+----------------+----+---+---+----+-----+\n",
      "|Score_prediction| 0.0|1.0|2.0| 3.0|  4.0|\n",
      "+----------------+----+---+---+----+-----+\n",
      "|             5.0|2134|727|545|1925|66974|\n",
      "|             1.0| 433|103| 88| 306| 9448|\n",
      "|             2.0| 166| 83| 43| 161| 5531|\n",
      "|             3.0| 242| 71| 70| 224| 7921|\n",
      "|             4.0| 485|145|139| 559|14759|\n",
      "+----------------+----+---+---+----+-----+\n",
      "\n"
     ]
    }
   ],
   "source": [
    "ct.show()"
   ]
  },
  {
   "cell_type": "markdown",
   "metadata": {},
   "source": [
    "Thus, we get the model to predict a large number of '5's as we had suspected during the EDA. Further tasks will be further tune the model by looking at various alternate algorithms like SVM, Logistics Regression etc, come up with various kinds of features like for example we have not taken into consideraiton the 'summary' column and so on. The possibilities are enourmous and I will encourage you to use your creativity and try different combinations to see of you can come up with a model which will score better that the above model."
   ]
  }
 ],
 "metadata": {
  "kernelspec": {
   "display_name": "Python 3",
   "language": "python",
   "name": "python3"
  },
  "language_info": {
   "codemirror_mode": {
    "name": "ipython",
    "version": 3
   },
   "file_extension": ".py",
   "mimetype": "text/x-python",
   "name": "python",
   "nbconvert_exporter": "python",
   "pygments_lexer": "ipython3",
   "version": "3.6.0"
  }
 },
 "nbformat": 4,
 "nbformat_minor": 2
}
